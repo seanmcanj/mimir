{
 "cells": [
  {
   "cell_type": "code",
   "execution_count": 2,
   "metadata": {},
   "outputs": [],
   "source": [
    "import pip"
   ]
  },
  {
   "cell_type": "code",
   "execution_count": 3,
   "metadata": {},
   "outputs": [
    {
     "name": "stderr",
     "output_type": "stream",
     "text": [
      "WARNING: pip is being invoked by an old script wrapper. This will fail in a future version of pip.\n",
      "Please see https://github.com/pypa/pip/issues/5599 for advice on fixing the underlying issue.\n",
      "To avoid this problem you can invoke Python with '-m pip' instead of running pip directly.\n"
     ]
    },
    {
     "data": {
      "text/html": [
       "<pre style=\"white-space:pre;overflow-x:auto;line-height:normal;font-family:Menlo,'DejaVu Sans Mono',consolas,'Courier New',monospace\">Requirement already satisfied: fastembed in /opt/homebrew/lib/python3.10/site-packages (0.2.2)\n",
       "</pre>\n"
      ],
      "text/plain": [
       "Requirement already satisfied: fastembed in /opt/homebrew/lib/python3.10/site-packages (0.2.2)\n"
      ]
     },
     "metadata": {},
     "output_type": "display_data"
    },
    {
     "data": {
      "text/html": [
       "<pre style=\"white-space:pre;overflow-x:auto;line-height:normal;font-family:Menlo,'DejaVu Sans Mono',consolas,'Courier New',monospace\">Requirement already satisfied: huggingface-hub&lt;0.21,&gt;=0.20 in /opt/homebrew/lib/python3.10/site-packages (from fastembed) (0.20.3)\n",
       "</pre>\n"
      ],
      "text/plain": [
       "Requirement already satisfied: huggingface-hub<0.21,>=0.20 in /opt/homebrew/lib/python3.10/site-packages (from fastembed) (0.20.3)\n"
      ]
     },
     "metadata": {},
     "output_type": "display_data"
    },
    {
     "data": {
      "text/html": [
       "<pre style=\"white-space:pre;overflow-x:auto;line-height:normal;font-family:Menlo,'DejaVu Sans Mono',consolas,'Courier New',monospace\">Requirement already satisfied: loguru&lt;0.8.0,&gt;=0.7.2 in /opt/homebrew/lib/python3.10/site-packages (from fastembed) (0.7.2)\n",
       "</pre>\n"
      ],
      "text/plain": [
       "Requirement already satisfied: loguru<0.8.0,>=0.7.2 in /opt/homebrew/lib/python3.10/site-packages (from fastembed) (0.7.2)\n"
      ]
     },
     "metadata": {},
     "output_type": "display_data"
    },
    {
     "data": {
      "text/html": [
       "<pre style=\"white-space:pre;overflow-x:auto;line-height:normal;font-family:Menlo,'DejaVu Sans Mono',consolas,'Courier New',monospace\">Requirement already satisfied: numpy&gt;=1.21 in /opt/homebrew/lib/python3.10/site-packages (from fastembed) (1.26.4)\n",
       "</pre>\n"
      ],
      "text/plain": [
       "Requirement already satisfied: numpy>=1.21 in /opt/homebrew/lib/python3.10/site-packages (from fastembed) (1.26.4)\n"
      ]
     },
     "metadata": {},
     "output_type": "display_data"
    },
    {
     "data": {
      "text/html": [
       "<pre style=\"white-space:pre;overflow-x:auto;line-height:normal;font-family:Menlo,'DejaVu Sans Mono',consolas,'Courier New',monospace\">Requirement already satisfied: onnx&lt;2.0.0,&gt;=1.15.0 in /opt/homebrew/lib/python3.10/site-packages (from fastembed) (1.15.0)\n",
       "</pre>\n"
      ],
      "text/plain": [
       "Requirement already satisfied: onnx<2.0.0,>=1.15.0 in /opt/homebrew/lib/python3.10/site-packages (from fastembed) (1.15.0)\n"
      ]
     },
     "metadata": {},
     "output_type": "display_data"
    },
    {
     "data": {
      "text/html": [
       "<pre style=\"white-space:pre;overflow-x:auto;line-height:normal;font-family:Menlo,'DejaVu Sans Mono',consolas,'Courier New',monospace\">Requirement already satisfied: onnxruntime&lt;2.0.0,&gt;=1.17.0 in /opt/homebrew/lib/python3.10/site-packages (from fastembed) (1.17.1)\n",
       "</pre>\n"
      ],
      "text/plain": [
       "Requirement already satisfied: onnxruntime<2.0.0,>=1.17.0 in /opt/homebrew/lib/python3.10/site-packages (from fastembed) (1.17.1)\n"
      ]
     },
     "metadata": {},
     "output_type": "display_data"
    },
    {
     "data": {
      "text/html": [
       "<pre style=\"white-space:pre;overflow-x:auto;line-height:normal;font-family:Menlo,'DejaVu Sans Mono',consolas,'Courier New',monospace\">Requirement already satisfied: requests&lt;3.0,&gt;=2.31 in /opt/homebrew/lib/python3.10/site-packages (from fastembed) (2.31.0)\n",
       "</pre>\n"
      ],
      "text/plain": [
       "Requirement already satisfied: requests<3.0,>=2.31 in /opt/homebrew/lib/python3.10/site-packages (from fastembed) (2.31.0)\n"
      ]
     },
     "metadata": {},
     "output_type": "display_data"
    },
    {
     "data": {
      "text/html": [
       "<pre style=\"white-space:pre;overflow-x:auto;line-height:normal;font-family:Menlo,'DejaVu Sans Mono',consolas,'Courier New',monospace\">Requirement already satisfied: tokenizers&lt;0.16.0,&gt;=0.15.1 in /opt/homebrew/lib/python3.10/site-packages (from fastembed) (0.15.2)\n",
       "</pre>\n"
      ],
      "text/plain": [
       "Requirement already satisfied: tokenizers<0.16.0,>=0.15.1 in /opt/homebrew/lib/python3.10/site-packages (from fastembed) (0.15.2)\n"
      ]
     },
     "metadata": {},
     "output_type": "display_data"
    },
    {
     "data": {
      "text/html": [
       "<pre style=\"white-space:pre;overflow-x:auto;line-height:normal;font-family:Menlo,'DejaVu Sans Mono',consolas,'Courier New',monospace\">Requirement already satisfied: tqdm&lt;5.0,&gt;=4.66 in /opt/homebrew/lib/python3.10/site-packages (from fastembed) (4.66.2)\n",
       "</pre>\n"
      ],
      "text/plain": [
       "Requirement already satisfied: tqdm<5.0,>=4.66 in /opt/homebrew/lib/python3.10/site-packages (from fastembed) (4.66.2)\n"
      ]
     },
     "metadata": {},
     "output_type": "display_data"
    },
    {
     "data": {
      "text/html": [
       "<pre style=\"white-space:pre;overflow-x:auto;line-height:normal;font-family:Menlo,'DejaVu Sans Mono',consolas,'Courier New',monospace\">Requirement already satisfied: filelock in /opt/homebrew/lib/python3.10/site-packages (from huggingface-hub&lt;0.21,&gt;=0.20-&gt;fastembed) (3.13.1)\n",
       "</pre>\n"
      ],
      "text/plain": [
       "Requirement already satisfied: filelock in /opt/homebrew/lib/python3.10/site-packages (from huggingface-hub<0.21,>=0.20->fastembed) (3.13.1)\n"
      ]
     },
     "metadata": {},
     "output_type": "display_data"
    },
    {
     "data": {
      "text/html": [
       "<pre style=\"white-space:pre;overflow-x:auto;line-height:normal;font-family:Menlo,'DejaVu Sans Mono',consolas,'Courier New',monospace\">Requirement already satisfied: fsspec&gt;=2023.5.0 in /opt/homebrew/lib/python3.10/site-packages (from huggingface-hub&lt;0.21,&gt;=0.20-&gt;fastembed) (2024.2.0)\n",
       "</pre>\n"
      ],
      "text/plain": [
       "Requirement already satisfied: fsspec>=2023.5.0 in /opt/homebrew/lib/python3.10/site-packages (from huggingface-hub<0.21,>=0.20->fastembed) (2024.2.0)\n"
      ]
     },
     "metadata": {},
     "output_type": "display_data"
    },
    {
     "data": {
      "text/html": [
       "<pre style=\"white-space:pre;overflow-x:auto;line-height:normal;font-family:Menlo,'DejaVu Sans Mono',consolas,'Courier New',monospace\">Requirement already satisfied: pyyaml&gt;=5.1 in /opt/homebrew/lib/python3.10/site-packages (from huggingface-hub&lt;0.21,&gt;=0.20-&gt;fastembed) (6.0.1)\n",
       "</pre>\n"
      ],
      "text/plain": [
       "Requirement already satisfied: pyyaml>=5.1 in /opt/homebrew/lib/python3.10/site-packages (from huggingface-hub<0.21,>=0.20->fastembed) (6.0.1)\n"
      ]
     },
     "metadata": {},
     "output_type": "display_data"
    },
    {
     "data": {
      "text/html": [
       "<pre style=\"white-space:pre;overflow-x:auto;line-height:normal;font-family:Menlo,'DejaVu Sans Mono',consolas,'Courier New',monospace\">Requirement already satisfied: typing-extensions&gt;=3.7.4.3 in /opt/homebrew/lib/python3.10/site-packages (from huggingface-hub&lt;0.21,&gt;=0.20-&gt;fastembed) (4.10.0)\n",
       "</pre>\n"
      ],
      "text/plain": [
       "Requirement already satisfied: typing-extensions>=3.7.4.3 in /opt/homebrew/lib/python3.10/site-packages (from huggingface-hub<0.21,>=0.20->fastembed) (4.10.0)\n"
      ]
     },
     "metadata": {},
     "output_type": "display_data"
    },
    {
     "data": {
      "text/html": [
       "<pre style=\"white-space:pre;overflow-x:auto;line-height:normal;font-family:Menlo,'DejaVu Sans Mono',consolas,'Courier New',monospace\">Requirement already satisfied: packaging&gt;=20.9 in /Users/seanmcauliffe/Library/Python/3.10/lib/python/site-packages (from huggingface-hub&lt;0.21,&gt;=0.20-&gt;fastembed) (23.2)\n",
       "</pre>\n"
      ],
      "text/plain": [
       "Requirement already satisfied: packaging>=20.9 in /Users/seanmcauliffe/Library/Python/3.10/lib/python/site-packages (from huggingface-hub<0.21,>=0.20->fastembed) (23.2)\n"
      ]
     },
     "metadata": {},
     "output_type": "display_data"
    },
    {
     "data": {
      "text/html": [
       "<pre style=\"white-space:pre;overflow-x:auto;line-height:normal;font-family:Menlo,'DejaVu Sans Mono',consolas,'Courier New',monospace\">Requirement already satisfied: protobuf&gt;=3.20.2 in /opt/homebrew/lib/python3.10/site-packages (from onnx&lt;2.0.0,&gt;=1.15.0-&gt;fastembed) (4.25.3)\n",
       "</pre>\n"
      ],
      "text/plain": [
       "Requirement already satisfied: protobuf>=3.20.2 in /opt/homebrew/lib/python3.10/site-packages (from onnx<2.0.0,>=1.15.0->fastembed) (4.25.3)\n"
      ]
     },
     "metadata": {},
     "output_type": "display_data"
    },
    {
     "data": {
      "text/html": [
       "<pre style=\"white-space:pre;overflow-x:auto;line-height:normal;font-family:Menlo,'DejaVu Sans Mono',consolas,'Courier New',monospace\">Requirement already satisfied: coloredlogs in /opt/homebrew/lib/python3.10/site-packages (from onnxruntime&lt;2.0.0,&gt;=1.17.0-&gt;fastembed) (15.0.1)\n",
       "</pre>\n"
      ],
      "text/plain": [
       "Requirement already satisfied: coloredlogs in /opt/homebrew/lib/python3.10/site-packages (from onnxruntime<2.0.0,>=1.17.0->fastembed) (15.0.1)\n"
      ]
     },
     "metadata": {},
     "output_type": "display_data"
    },
    {
     "data": {
      "text/html": [
       "<pre style=\"white-space:pre;overflow-x:auto;line-height:normal;font-family:Menlo,'DejaVu Sans Mono',consolas,'Courier New',monospace\">Requirement already satisfied: flatbuffers in /opt/homebrew/lib/python3.10/site-packages (from onnxruntime&lt;2.0.0,&gt;=1.17.0-&gt;fastembed) (24.3.7)\n",
       "</pre>\n"
      ],
      "text/plain": [
       "Requirement already satisfied: flatbuffers in /opt/homebrew/lib/python3.10/site-packages (from onnxruntime<2.0.0,>=1.17.0->fastembed) (24.3.7)\n"
      ]
     },
     "metadata": {},
     "output_type": "display_data"
    },
    {
     "data": {
      "text/html": [
       "<pre style=\"white-space:pre;overflow-x:auto;line-height:normal;font-family:Menlo,'DejaVu Sans Mono',consolas,'Courier New',monospace\">Requirement already satisfied: sympy in /opt/homebrew/lib/python3.10/site-packages (from onnxruntime&lt;2.0.0,&gt;=1.17.0-&gt;fastembed) (1.12)\n",
       "</pre>\n"
      ],
      "text/plain": [
       "Requirement already satisfied: sympy in /opt/homebrew/lib/python3.10/site-packages (from onnxruntime<2.0.0,>=1.17.0->fastembed) (1.12)\n"
      ]
     },
     "metadata": {},
     "output_type": "display_data"
    },
    {
     "data": {
      "text/html": [
       "<pre style=\"white-space:pre;overflow-x:auto;line-height:normal;font-family:Menlo,'DejaVu Sans Mono',consolas,'Courier New',monospace\">Requirement already satisfied: charset-normalizer&lt;4,&gt;=2 in /opt/homebrew/lib/python3.10/site-packages (from requests&lt;3.0,&gt;=2.31-&gt;fastembed) (3.3.2)\n",
       "</pre>\n"
      ],
      "text/plain": [
       "Requirement already satisfied: charset-normalizer<4,>=2 in /opt/homebrew/lib/python3.10/site-packages (from requests<3.0,>=2.31->fastembed) (3.3.2)\n"
      ]
     },
     "metadata": {},
     "output_type": "display_data"
    },
    {
     "data": {
      "text/html": [
       "<pre style=\"white-space:pre;overflow-x:auto;line-height:normal;font-family:Menlo,'DejaVu Sans Mono',consolas,'Courier New',monospace\">Requirement already satisfied: idna&lt;4,&gt;=2.5 in /opt/homebrew/lib/python3.10/site-packages (from requests&lt;3.0,&gt;=2.31-&gt;fastembed) (3.6)\n",
       "</pre>\n"
      ],
      "text/plain": [
       "Requirement already satisfied: idna<4,>=2.5 in /opt/homebrew/lib/python3.10/site-packages (from requests<3.0,>=2.31->fastembed) (3.6)\n"
      ]
     },
     "metadata": {},
     "output_type": "display_data"
    },
    {
     "data": {
      "text/html": [
       "<pre style=\"white-space:pre;overflow-x:auto;line-height:normal;font-family:Menlo,'DejaVu Sans Mono',consolas,'Courier New',monospace\">Requirement already satisfied: urllib3&lt;3,&gt;=1.21.1 in /opt/homebrew/lib/python3.10/site-packages (from requests&lt;3.0,&gt;=2.31-&gt;fastembed) (2.2.1)\n",
       "</pre>\n"
      ],
      "text/plain": [
       "Requirement already satisfied: urllib3<3,>=1.21.1 in /opt/homebrew/lib/python3.10/site-packages (from requests<3.0,>=2.31->fastembed) (2.2.1)\n"
      ]
     },
     "metadata": {},
     "output_type": "display_data"
    },
    {
     "data": {
      "text/html": [
       "<pre style=\"white-space:pre;overflow-x:auto;line-height:normal;font-family:Menlo,'DejaVu Sans Mono',consolas,'Courier New',monospace\">Requirement already satisfied: certifi&gt;=2017.4.17 in /opt/homebrew/lib/python3.10/site-packages (from requests&lt;3.0,&gt;=2.31-&gt;fastembed) (2024.2.2)\n",
       "</pre>\n"
      ],
      "text/plain": [
       "Requirement already satisfied: certifi>=2017.4.17 in /opt/homebrew/lib/python3.10/site-packages (from requests<3.0,>=2.31->fastembed) (2024.2.2)\n"
      ]
     },
     "metadata": {},
     "output_type": "display_data"
    },
    {
     "data": {
      "text/html": [
       "<pre style=\"white-space:pre;overflow-x:auto;line-height:normal;font-family:Menlo,'DejaVu Sans Mono',consolas,'Courier New',monospace\">Requirement already satisfied: humanfriendly&gt;=9.1 in /opt/homebrew/lib/python3.10/site-packages (from coloredlogs-&gt;onnxruntime&lt;2.0.0,&gt;=1.17.0-&gt;fastembed) (10.0)\n",
       "</pre>\n"
      ],
      "text/plain": [
       "Requirement already satisfied: humanfriendly>=9.1 in /opt/homebrew/lib/python3.10/site-packages (from coloredlogs->onnxruntime<2.0.0,>=1.17.0->fastembed) (10.0)\n"
      ]
     },
     "metadata": {},
     "output_type": "display_data"
    },
    {
     "data": {
      "text/html": [
       "<pre style=\"white-space:pre;overflow-x:auto;line-height:normal;font-family:Menlo,'DejaVu Sans Mono',consolas,'Courier New',monospace\">Requirement already satisfied: mpmath&gt;=0.19 in /opt/homebrew/lib/python3.10/site-packages (from sympy-&gt;onnxruntime&lt;2.0.0,&gt;=1.17.0-&gt;fastembed) (1.3.0)\n",
       "</pre>\n"
      ],
      "text/plain": [
       "Requirement already satisfied: mpmath>=0.19 in /opt/homebrew/lib/python3.10/site-packages (from sympy->onnxruntime<2.0.0,>=1.17.0->fastembed) (1.3.0)\n"
      ]
     },
     "metadata": {},
     "output_type": "display_data"
    },
    {
     "data": {
      "text/html": [
       "<pre style=\"white-space:pre;overflow-x:auto;line-height:normal;font-family:Menlo,'DejaVu Sans Mono',consolas,'Courier New',monospace\">\n",
       "<span style=\"font-weight: bold\">[</span><span style=\"color: #000080; text-decoration-color: #000080; background-color: #ffffff\">notice</span><span style=\"color: #000000; text-decoration-color: #000000; background-color: #ffffff; font-weight: bold\">]</span><span style=\"color: #000000; text-decoration-color: #000000; background-color: #ffffff\"> A new release of pip is available: </span><span style=\"color: #800000; text-decoration-color: #800000; background-color: #ffffff\">23.3.1</span><span style=\"color: #000000; text-decoration-color: #000000; background-color: #ffffff\"> -&gt; </span><span style=\"color: #008000; text-decoration-color: #008000; background-color: #ffffff\">24.0</span>\n",
       "<span style=\"font-weight: bold\">[</span><span style=\"color: #000080; text-decoration-color: #000080; background-color: #ffffff\">notice</span><span style=\"color: #000000; text-decoration-color: #000000; background-color: #ffffff; font-weight: bold\">]</span><span style=\"color: #000000; text-decoration-color: #000000; background-color: #ffffff\"> To update, run: </span><span style=\"color: #008000; text-decoration-color: #008000; background-color: #ffffff\">python3.10 -m pip install --upgrade pip</span>\n",
       "</pre>\n"
      ],
      "text/plain": [
       "\n",
       "\u001b[1m[\u001b[0m\u001b[34;49mnotice\u001b[0m\u001b[1;39;49m]\u001b[0m\u001b[39;49m A new release of pip is available: \u001b[0m\u001b[31;49m23.3.1\u001b[0m\u001b[39;49m -> \u001b[0m\u001b[32;49m24.0\u001b[0m\n",
       "\u001b[1m[\u001b[0m\u001b[34;49mnotice\u001b[0m\u001b[1;39;49m]\u001b[0m\u001b[39;49m To update, run: \u001b[0m\u001b[32;49mpython3.10 -m pip install --upgrade pip\u001b[0m\n"
      ]
     },
     "metadata": {},
     "output_type": "display_data"
    },
    {
     "data": {
      "text/plain": [
       "0"
      ]
     },
     "execution_count": 3,
     "metadata": {},
     "output_type": "execute_result"
    }
   ],
   "source": [
    "pip.main([\"install\", \"fastembed\"])"
   ]
  },
  {
   "cell_type": "code",
   "execution_count": 4,
   "metadata": {},
   "outputs": [
    {
     "name": "stderr",
     "output_type": "stream",
     "text": [
      "/opt/homebrew/lib/python3.10/site-packages/tqdm/auto.py:21: TqdmWarning: IProgress not found. Please update jupyter and ipywidgets. See https://ipywidgets.readthedocs.io/en/stable/user_install.html\n",
      "  from .autonotebook import tqdm as notebook_tqdm\n"
     ]
    }
   ],
   "source": [
    "from fastembed import TextEmbedding"
   ]
  },
  {
   "cell_type": "code",
   "execution_count": 5,
   "metadata": {},
   "outputs": [
    {
     "name": "stderr",
     "output_type": "stream",
     "text": [
      "Fetching 9 files: 100%|██████████| 9/9 [00:00<00:00, 138273.76it/s]\n"
     ]
    }
   ],
   "source": [
    "mbedding_model = TextEmbedding()"
   ]
  },
  {
   "cell_type": "code",
   "execution_count": 9,
   "metadata": {},
   "outputs": [],
   "source": [
    "embeddings_list = list(mbedding_model.embed([\"this is a test sentence.\"]))[0].tolist()"
   ]
  },
  {
   "cell_type": "code",
   "execution_count": 10,
   "metadata": {},
   "outputs": [
    {
     "data": {
      "text/plain": [
       "[-0.06434669345617294,\n",
       " 0.029028845950961113,\n",
       " 0.008139515295624733,\n",
       " -0.006124360952526331,\n",
       " 0.011269149370491505,\n",
       " 0.006408856716006994,\n",
       " 0.07463997602462769,\n",
       " 0.01522589847445488,\n",
       " 0.03064860962331295,\n",
       " -0.0358530655503273,\n",
       " -0.020313212648034096,\n",
       " -0.02946970798075199,\n",
       " 0.02828015387058258,\n",
       " 0.03607552498579025,\n",
       " 0.00437092175707221,\n",
       " -0.016481421887874603,\n",
       " 0.0022413223050534725,\n",
       " -0.0641864463686943,\n",
       " -0.06316666305065155,\n",
       " 0.028717629611492157,\n",
       " 0.07386786490678787,\n",
       " -0.007348420098423958,\n",
       " -0.009843341074883938,\n",
       " -0.012999228201806545,\n",
       " 0.001163311069831252,\n",
       " 0.04268377646803856,\n",
       " 0.022878587245941162,\n",
       " -0.03132088482379913,\n",
       " -0.01951834000647068,\n",
       " -0.08179265260696411,\n",
       " 0.011754401959478855,\n",
       " -0.033046822994947433,\n",
       " 0.027873072773218155,\n",
       " -0.005872848443686962,\n",
       " 0.021379459649324417,\n",
       " 0.01804816536605358,\n",
       " -0.06023893505334854,\n",
       " -0.01781952939927578,\n",
       " -0.04541876167058945,\n",
       " -0.021112846210598946,\n",
       " 0.052730269730091095,\n",
       " 0.011441190727055073,\n",
       " -0.028572846204042435,\n",
       " 0.004192059859633446,\n",
       " 0.021570701152086258,\n",
       " 0.0216971505433321,\n",
       " -0.021789535880088806,\n",
       " 7.440776971634477e-05,\n",
       " 0.023744333535432816,\n",
       " 0.00851934403181076,\n",
       " -0.03800439462065697,\n",
       " -0.04667358472943306,\n",
       " -0.0012262066593393683,\n",
       " -0.06161125376820564,\n",
       " 0.0007779751904308796,\n",
       " 0.03256749361753464,\n",
       " 0.03323724865913391,\n",
       " 0.0018845879239961505,\n",
       " 0.042571913450956345,\n",
       " 0.01409195177257061,\n",
       " -0.006981521379202604,\n",
       " 0.035775791853666306,\n",
       " -0.14332924783229828,\n",
       " 0.028698991984128952,\n",
       " 0.023516632616519928,\n",
       " 0.005453060381114483,\n",
       " -0.024045277386903763,\n",
       " -0.0037699744571000338,\n",
       " 0.02236752212047577,\n",
       " 0.05943522974848747,\n",
       " 0.058475103229284286,\n",
       " -0.006685875356197357,\n",
       " 0.03746523708105087,\n",
       " 0.09009238332509995,\n",
       " -0.04704194888472557,\n",
       " -0.006059661507606506,\n",
       " 0.0013046276289969683,\n",
       " -0.027415990829467773,\n",
       " 0.028360439464449883,\n",
       " -0.005634315777570009,\n",
       " -0.011084157042205334,\n",
       " -0.04065141826868057,\n",
       " 0.022393742576241493,\n",
       " 0.024596257135272026,\n",
       " -0.0333155058324337,\n",
       " -0.055442702025175095,\n",
       " -0.029557131230831146,\n",
       " 0.06086651235818863,\n",
       " 0.02695542946457863,\n",
       " 0.016447903588414192,\n",
       " -0.018106820061802864,\n",
       " -0.03189435973763466,\n",
       " -0.04084059223532677,\n",
       " 0.017729396000504494,\n",
       " -0.015334084630012512,\n",
       " -0.04438837990164757,\n",
       " -0.003592530731111765,\n",
       " -0.032015349715948105,\n",
       " 0.01717708632349968,\n",
       " 0.4155246615409851,\n",
       " -0.037911154329776764,\n",
       " 0.028676610440015793,\n",
       " 0.020903488621115685,\n",
       " -0.06262519210577011,\n",
       " -0.024870948866009712,\n",
       " -0.0027001905255019665,\n",
       " 0.039544641971588135,\n",
       " -0.03345213457942009,\n",
       " -0.04171760007739067,\n",
       " -0.042447756975889206,\n",
       " -0.006835693959146738,\n",
       " -0.018103986978530884,\n",
       " 0.034205496311187744,\n",
       " 0.008195417933166027,\n",
       " -0.036503516137599945,\n",
       " 0.05948270857334137,\n",
       " 0.0498870424926281,\n",
       " -0.009382694959640503,\n",
       " -0.03589290380477905,\n",
       " -0.011018914170563221,\n",
       " 0.04949866980314255,\n",
       " 0.03100191242992878,\n",
       " -0.05128508806228638,\n",
       " -0.06697379052639008,\n",
       " 0.0501030758023262,\n",
       " -0.013078462332487106,\n",
       " 0.10397673398256302,\n",
       " 0.05936618521809578,\n",
       " 0.008820855058729649,\n",
       " -0.030371902510523796,\n",
       " 0.0054733301512897015,\n",
       " -0.0759117603302002,\n",
       " -0.017048126086592674,\n",
       " 0.03076234646141529,\n",
       " -0.05166298523545265,\n",
       " -0.023621506989002228,\n",
       " 0.025232229381799698,\n",
       " 0.03822217881679535,\n",
       " 0.019852085039019585,\n",
       " 0.009873080998659134,\n",
       " -0.04480857402086258,\n",
       " -0.0823856070637703,\n",
       " -0.03377530723810196,\n",
       " -0.039431314915418625,\n",
       " -0.0583057664334774,\n",
       " 0.06114676222205162,\n",
       " -0.012303228490054607,\n",
       " 0.02547125332057476,\n",
       " -0.010957338847219944,\n",
       " -0.0351678840816021,\n",
       " 0.031752318143844604,\n",
       " 0.06020650267601013,\n",
       " 0.03327522054314613,\n",
       " -0.08836662769317627,\n",
       " -0.01737429015338421,\n",
       " 0.008155571296811104,\n",
       " 0.007537192665040493,\n",
       " -0.03516325354576111,\n",
       " -0.00045525975292548537,\n",
       " 0.02407359518110752,\n",
       " 0.03734724223613739,\n",
       " 0.02658613584935665,\n",
       " -0.036287594586610794,\n",
       " 0.043921779841184616,\n",
       " 0.02797144651412964,\n",
       " -0.012824398465454578,\n",
       " -0.020328763872385025,\n",
       " -0.026182277128100395,\n",
       " 0.07670236378908157,\n",
       " -0.05232426896691322,\n",
       " 0.07357046753168106,\n",
       " 0.03587787598371506,\n",
       " -0.04602105915546417,\n",
       " -0.010007387958467007,\n",
       " -0.030634067952632904,\n",
       " -0.0063089109025895596,\n",
       " 0.021461401134729385,\n",
       " 0.050601519644260406,\n",
       " -0.0017095365328714252,\n",
       " 0.005156365223228931,\n",
       " 0.01455447543412447,\n",
       " 0.01806914247572422,\n",
       " -0.04320830851793289,\n",
       " 0.0774550810456276,\n",
       " 0.008427110500633717,\n",
       " -0.0018563349731266499,\n",
       " -0.034755658358335495,\n",
       " -0.04340633749961853,\n",
       " 0.03238624334335327,\n",
       " -0.027347398921847343,\n",
       " 0.006277644075453281,\n",
       " 0.0809587687253952,\n",
       " -0.0689304918050766,\n",
       " 0.043752286583185196,\n",
       " -0.06442324817180634,\n",
       " -0.02801918238401413,\n",
       " 0.034992463886737823,\n",
       " -0.025076456367969513,\n",
       " -0.04733727127313614,\n",
       " 0.01162879727780819,\n",
       " -0.0064054615795612335,\n",
       " -0.015134590677917004,\n",
       " 0.01900681108236313,\n",
       " 0.047167979180812836,\n",
       " 0.06626728177070618,\n",
       " 0.014018000103533268,\n",
       " 0.013909180648624897,\n",
       " -0.0014989254996180534,\n",
       " 0.023106781765818596,\n",
       " 0.023444214835762978,\n",
       " -0.014422996900975704,\n",
       " -0.05179975554347038,\n",
       " 0.021613793447613716,\n",
       " 0.012241347692906857,\n",
       " 0.013121903873980045,\n",
       " -0.08971741795539856,\n",
       " -0.0073872217908501625,\n",
       " 0.011134033091366291,\n",
       " 0.00975889153778553,\n",
       " 0.04936574772000313,\n",
       " -0.05844452232122421,\n",
       " -0.0017042005201801658,\n",
       " 0.0874314233660698,\n",
       " -0.32855427265167236,\n",
       " 0.010862738825380802,\n",
       " 0.02412736788392067,\n",
       " 0.010519937612116337,\n",
       " 0.07692773640155792,\n",
       " -0.0010006241500377655,\n",
       " 0.009350989013910294,\n",
       " 0.015901608392596245,\n",
       " 0.03460920602083206,\n",
       " -0.04712782800197601,\n",
       " -0.020360393449664116,\n",
       " -0.031116865575313568,\n",
       " 0.03373757004737854,\n",
       " -0.03193195164203644,\n",
       " 0.03754822909832001,\n",
       " -0.02954998053610325,\n",
       " -0.0073564727790653706,\n",
       " 0.00196941033937037,\n",
       " 0.045016057789325714,\n",
       " 0.04038098827004433,\n",
       " 0.019882353022694588,\n",
       " 0.008007808588445187,\n",
       " 0.0014374284073710442,\n",
       " -0.05343589186668396,\n",
       " 0.033221807330846786,\n",
       " -0.036025192588567734,\n",
       " 0.19859714806079865,\n",
       " 0.08687819540500641,\n",
       " 0.003145594149827957,\n",
       " -0.038229841738939285,\n",
       " 0.045409612357616425,\n",
       " -0.00955972634255886,\n",
       " 0.003995500039309263,\n",
       " -0.12044818699359894,\n",
       " 0.06777321547269821,\n",
       " 0.037256184965372086,\n",
       " -0.06071728840470314,\n",
       " 0.022156935185194016,\n",
       " -0.03684546798467636,\n",
       " -0.01275758445262909,\n",
       " 0.015214316546916962,\n",
       " 0.026654068380594254,\n",
       " -0.011140395887196064,\n",
       " -0.0538894385099411,\n",
       " -0.02586904540657997,\n",
       " -0.050554342567920685,\n",
       " -0.01571476273238659,\n",
       " 0.010825601406395435,\n",
       " -0.08247027546167374,\n",
       " 0.05354119837284088,\n",
       " 0.023165607824921608,\n",
       " -0.07463033497333527,\n",
       " -0.02538132853806019,\n",
       " 0.001089357421733439,\n",
       " 0.04360369220376015,\n",
       " -0.04702815040946007,\n",
       " -0.1017908900976181,\n",
       " -0.06085318699479103,\n",
       " -0.03888247534632683,\n",
       " -0.016299668699502945,\n",
       " 0.020426679402589798,\n",
       " 0.10779914259910583,\n",
       " 0.04197535291314125,\n",
       " 0.015202661044895649,\n",
       " 0.0248649213463068,\n",
       " 0.02554275654256344,\n",
       " 0.037308964878320694,\n",
       " -0.0610782727599144,\n",
       " 0.027578631415963173,\n",
       " 0.03440987318754196,\n",
       " -0.023145845159888268,\n",
       " 0.03235223889350891,\n",
       " -0.01704176887869835,\n",
       " -0.04783665016293526,\n",
       " 0.0051363129168748856,\n",
       " 0.019708672538399696,\n",
       " -0.0251559317111969,\n",
       " -0.010037187486886978,\n",
       " -0.00372615666128695,\n",
       " -0.012675493024289608,\n",
       " 0.06461378931999207,\n",
       " 0.022405460476875305,\n",
       " -0.020361032336950302,\n",
       " -0.012510574422776699,\n",
       " 0.04353970289230347,\n",
       " 0.04331883415579796,\n",
       " 0.0038180965930223465,\n",
       " 0.005701238289475441,\n",
       " 0.06416969746351242,\n",
       " -0.010287933051586151,\n",
       " 0.0029949857853353024,\n",
       " 0.026574835181236267,\n",
       " -0.025674991309642792,\n",
       " -0.0521191768348217,\n",
       " -0.01766073890030384,\n",
       " -0.05043010413646698,\n",
       " -0.3091021776199341,\n",
       " -0.008272369392216206,\n",
       " -0.030596069991588593,\n",
       " 0.028706764802336693,\n",
       " -0.01487054768949747,\n",
       " 0.005727047100663185,\n",
       " 0.000631972448900342,\n",
       " 0.03053845465183258,\n",
       " -0.06726012378931046,\n",
       " 0.04782111197710037,\n",
       " -0.00015116647409740835,\n",
       " 0.03618142753839493,\n",
       " 0.024159520864486694,\n",
       " -0.02274966798722744,\n",
       " -0.018200121819972992,\n",
       " 0.01198624912649393,\n",
       " 0.053229738026857376,\n",
       " -0.03521627560257912,\n",
       " 0.03293433412909508,\n",
       " -0.07686088234186172,\n",
       " 0.020617924630641937,\n",
       " 0.01705063506960869,\n",
       " 0.1208265945315361,\n",
       " -0.047599419951438904,\n",
       " 0.06687390804290771,\n",
       " 0.010208699852228165,\n",
       " 0.03437039256095886,\n",
       " -0.014537320472300053,\n",
       " 0.0655112937092781,\n",
       " -0.019302180036902428,\n",
       " 0.03334592655301094,\n",
       " -0.016895199194550514,\n",
       " 0.03786613047122955,\n",
       " 0.0014560251729562879,\n",
       " -0.009835449978709221,\n",
       " -0.004662480670958757,\n",
       " 0.004699405282735825,\n",
       " 0.012256679125130177,\n",
       " 0.04132620617747307,\n",
       " 0.016727807000279427,\n",
       " -0.0032793779391795397,\n",
       " -0.04763007164001465,\n",
       " -0.028050122782588005,\n",
       " -0.00861100573092699,\n",
       " 0.07085718214511871,\n",
       " 0.021881897002458572,\n",
       " 0.03529409319162369,\n",
       " -0.05516943708062172,\n",
       " -0.04530096799135208,\n",
       " -0.02369479462504387,\n",
       " 0.0029265116900205612,\n",
       " -0.0461210273206234,\n",
       " 0.03355822712182999,\n",
       " 0.00034616116317920387,\n",
       " 0.03465788811445236,\n",
       " 0.009054574184119701,\n",
       " -0.02099735103547573,\n",
       " -0.042919810861349106,\n",
       " 0.03790804743766785,\n",
       " -0.056023918092250824,\n",
       " -0.052387528121471405,\n",
       " -0.024092502892017365,\n",
       " 0.06010548397898674,\n",
       " 0.06408912688493729,\n",
       " -0.01747387833893299]"
      ]
     },
     "execution_count": 10,
     "metadata": {},
     "output_type": "execute_result"
    }
   ],
   "source": [
    "embeddings_list"
   ]
  },
  {
   "cell_type": "code",
   "execution_count": null,
   "metadata": {},
   "outputs": [],
   "source": []
  }
 ],
 "metadata": {
  "kernelspec": {
   "display_name": "Python 3",
   "language": "python",
   "name": "python3"
  },
  "language_info": {
   "codemirror_mode": {
    "name": "ipython",
    "version": 3
   },
   "file_extension": ".py",
   "mimetype": "text/x-python",
   "name": "python",
   "nbconvert_exporter": "python",
   "pygments_lexer": "ipython3",
   "version": "3.10.13"
  }
 },
 "nbformat": 4,
 "nbformat_minor": 2
}
